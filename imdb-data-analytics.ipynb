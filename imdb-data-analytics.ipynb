{
 "cells": [
  {
   "source": [
    "# IMBD Data Analytics with Python\n",
    "## Guia de Análise Exploratória de Dados com Python e Linguagem SQL"
   ],
   "cell_type": "markdown",
   "metadata": {}
  },
  {
   "cell_type": "code",
   "execution_count": 3,
   "metadata": {},
   "outputs": [],
   "source": [
    "# Fazendo os imports dos pacotes necessários para análise\n",
    "import re\n",
    "import time\n",
    "import sqlite3\n",
    "import pycountry\n",
    "import numpy as np\n",
    "import pandas as pd\n",
    "import matplotlib.pyplot as plt\n",
    "import seaborn as sns\n",
    "from matplotlib import cm\n",
    "from sklearn.feature_extraction.text import CountVectorizer\n",
    "import warnings\n",
    "warnings.filterwarnings(\"ignore\")\n",
    "sns.set_theme(style = \"whitegrid\")"
   ]
  },
  {
   "cell_type": "code",
   "execution_count": 6,
   "metadata": {},
   "outputs": [
    {
     "output_type": "stream",
     "name": "stdout",
     "text": [
      "2021-07-13 16:09:02,707 GET https://datasets.imdbws.com/name.basics.tsv.gz -> downloads/name.basics.tsv.gz\n",
      "2021-07-13 16:09:39,559 GET https://datasets.imdbws.com/title.basics.tsv.gz -> downloads/title.basics.tsv.gz\n",
      "2021-07-13 16:09:59,631 GET https://datasets.imdbws.com/title.akas.tsv.gz -> downloads/title.akas.tsv.gz\n",
      "2021-07-13 16:10:34,557 GET https://datasets.imdbws.com/title.principals.tsv.gz -> downloads/title.principals.tsv.gz\n",
      "2021-07-13 16:11:31,567 GET https://datasets.imdbws.com/title.episode.tsv.gz -> downloads/title.episode.tsv.gz\n",
      "2021-07-13 16:11:36,381 GET https://datasets.imdbws.com/title.ratings.tsv.gz -> downloads/title.ratings.tsv.gz\n",
      "2021-07-13 16:11:37,231 Populating database: imdb.db\n",
      "2021-07-13 16:11:37,237 Applying schema\n",
      "2021-07-13 16:11:37,240 Importing file: downloads/name.basics.tsv.gz\n",
      "2021-07-13 16:11:37,241 Reading number of rows ...\n",
      "2021-07-13 16:11:43,326 Inserting rows into table: people\n",
      "100%|█████████████████████████| 11070282/11070282 [02:24<00:00, 76625.94 rows/s]\n",
      "2021-07-13 16:14:08,117 Importing file: downloads/title.basics.tsv.gz\n",
      "2021-07-13 16:14:08,598 Reading number of rows ...\n",
      "2021-07-13 16:14:15,923 Inserting rows into table: titles\n",
      "100%|███████████████████████████| 8081413/8081413 [02:08<00:00, 62839.18 rows/s]\n",
      "2021-07-13 16:16:24,724 Importing file: downloads/title.akas.tsv.gz\n",
      "2021-07-13 16:16:24,724 Reading number of rows ...\n",
      "2021-07-13 16:16:33,158 Inserting rows into table: akas\n",
      "100%|█████████████████████████| 27191780/27191780 [05:56<00:00, 76268.84 rows/s]\n",
      "2021-07-13 16:22:29,806 Importing file: downloads/title.principals.tsv.gz\n",
      "2021-07-13 16:22:29,816 Reading number of rows ...\n",
      "2021-07-13 16:22:42,070 Inserting rows into table: crew\n",
      "100%|█████████████████████████| 45764469/45764469 [08:15<00:00, 92332.26 rows/s]\n",
      "2021-07-13 16:30:57,895 Importing file: downloads/title.episode.tsv.gz\n",
      "2021-07-13 16:30:57,916 Reading number of rows ...\n",
      "2021-07-13 16:30:59,218 Inserting rows into table: episodes\n",
      "100%|██████████████████████████| 5914140/5914140 [00:49<00:00, 120416.48 rows/s]\n",
      "2021-07-13 16:31:48,388 Importing file: downloads/title.ratings.tsv.gz\n",
      "2021-07-13 16:31:48,388 Reading number of rows ...\n",
      "2021-07-13 16:31:48,526 Inserting rows into table: ratings\n",
      "100%|██████████████████████████| 1171699/1171699 [00:09<00:00, 117580.97 rows/s]\n",
      "2021-07-13 16:31:58,494 Creating table indices ...\n",
      "2021-07-13 16:35:51,391 Import successful\n",
      "CPU times: user 46 s, sys: 7.41 s, total: 53.4 s\n",
      "Wall time: 26min 51s\n"
     ]
    }
   ],
   "source": [
    "%%time \n",
    "# magic function has to be the first thing in the IPython (Jupyter) cell\n",
    "\n",
    "# Baixando e carregando Dados do IMDB com a lib imdb-sqlite\n",
    "!imdb-sqlite"
   ]
  },
  {
   "cell_type": "code",
   "execution_count": null,
   "metadata": {},
   "outputs": [],
   "source": []
  }
 ],
 "metadata": {
  "kernelspec": {
   "name": "python3",
   "display_name": "Python 3.9.0 64-bit ('imdb-data-analytics-python-0flTdUY2-py3.9': poetry)"
  },
  "language_info": {
   "codemirror_mode": {
    "name": "ipython",
    "version": 3
   },
   "file_extension": ".py",
   "mimetype": "text/x-python",
   "name": "python",
   "nbconvert_exporter": "python",
   "pygments_lexer": "ipython3",
   "version": "3.9.0"
  },
  "interpreter": {
   "hash": "a4a115439f26a5bf25f607e36c543616cb4589bd60a1f10931b67383e512ff14"
  }
 },
 "nbformat": 4,
 "nbformat_minor": 5
}